{
 "cells": [
  {
   "cell_type": "markdown",
   "id": "42675cf6-4971-43e7-a20a-2bbfaf547b92",
   "metadata": {},
   "source": [
    "# Economic Analysis with Pandas"
   ]
  },
  {
   "cell_type": "code",
   "execution_count": 6,
   "id": "81f2249f-a7f9-4b0e-a5e6-a87e6a8b5047",
   "metadata": {},
   "outputs": [
    {
     "name": "stdout",
     "output_type": "stream",
     "text": [
      "Collecting fredapi\n",
      "  Downloading fredapi-0.5.2-py3-none-any.whl.metadata (5.0 kB)\n",
      "Requirement already satisfied: pandas in c:\\users\\giles\\anaconda3\\lib\\site-packages (from fredapi) (2.1.4)\n",
      "Requirement already satisfied: numpy<2,>=1.23.2 in c:\\users\\giles\\anaconda3\\lib\\site-packages (from pandas->fredapi) (1.26.4)\n",
      "Requirement already satisfied: python-dateutil>=2.8.2 in c:\\users\\giles\\anaconda3\\lib\\site-packages (from pandas->fredapi) (2.8.2)\n",
      "Requirement already satisfied: pytz>=2020.1 in c:\\users\\giles\\anaconda3\\lib\\site-packages (from pandas->fredapi) (2023.3.post1)\n",
      "Requirement already satisfied: tzdata>=2022.1 in c:\\users\\giles\\anaconda3\\lib\\site-packages (from pandas->fredapi) (2023.3)\n",
      "Requirement already satisfied: six>=1.5 in c:\\users\\giles\\anaconda3\\lib\\site-packages (from python-dateutil>=2.8.2->pandas->fredapi) (1.16.0)\n",
      "Downloading fredapi-0.5.2-py3-none-any.whl (11 kB)\n",
      "Installing collected packages: fredapi\n",
      "Successfully installed fredapi-0.5.2\n"
     ]
    }
   ],
   "source": [
    "!pip install fredapi"
   ]
  },
  {
   "cell_type": "code",
   "execution_count": 3,
   "id": "7141aac9-cb3f-4ef3-bb1d-3e53f4743a89",
   "metadata": {},
   "outputs": [],
   "source": [
    "import pandas as pd\n",
    "import numpy as np\n",
    "import matplotlib.pyplot as plt\n",
    "import plotly.express as px\n",
    "import config\n",
    "\n",
    "plt.style.use('fivethirtyeight')\n",
    "pd.set_option('display.max_columns', 500)\n",
    "color_pal = plt.rcParams[\"axes.prop_cycle\"].by_key()[\"color\"]\n",
    "\n",
    "from fredapi import Fred\n",
    "\n",
    "fred_key = config.FRED_API_KEY"
   ]
  },
  {
   "cell_type": "markdown",
   "id": "478a49f8-2007-4cc6-a1e9-2d952911c958",
   "metadata": {},
   "source": [
    "# 1. Create the Fred Object"
   ]
  },
  {
   "cell_type": "code",
   "execution_count": 4,
   "id": "3d5fd57a-354a-4fb4-b77c-aaa5cf535cd4",
   "metadata": {},
   "outputs": [],
   "source": [
    "fred = Fred(api_key=fred_key)"
   ]
  },
  {
   "cell_type": "markdown",
   "id": "1a426f5f-3777-4ea8-af17-46ebb232e689",
   "metadata": {},
   "source": [
    "# 2. Search for economic data!"
   ]
  },
  {
   "cell_type": "code",
   "execution_count": 7,
   "id": "127ed7dd-5c76-4ae8-bffb-3ee572c07cdc",
   "metadata": {},
   "outputs": [],
   "source": [
    "sp_search = fred.search('S&P', order_by='popularity')\n"
   ]
  },
  {
   "cell_type": "code",
   "execution_count": 8,
   "id": "cea9b527-0453-43ec-8cf1-dc2740d937e9",
   "metadata": {
    "scrolled": true
   },
   "outputs": [
    {
     "data": {
      "text/html": [
       "<div>\n",
       "<style scoped>\n",
       "    .dataframe tbody tr th:only-of-type {\n",
       "        vertical-align: middle;\n",
       "    }\n",
       "\n",
       "    .dataframe tbody tr th {\n",
       "        vertical-align: top;\n",
       "    }\n",
       "\n",
       "    .dataframe thead th {\n",
       "        text-align: right;\n",
       "    }\n",
       "</style>\n",
       "<table border=\"1\" class=\"dataframe\">\n",
       "  <thead>\n",
       "    <tr style=\"text-align: right;\">\n",
       "      <th></th>\n",
       "      <th>id</th>\n",
       "      <th>realtime_start</th>\n",
       "      <th>realtime_end</th>\n",
       "      <th>title</th>\n",
       "      <th>observation_start</th>\n",
       "      <th>observation_end</th>\n",
       "      <th>frequency</th>\n",
       "      <th>frequency_short</th>\n",
       "      <th>units</th>\n",
       "      <th>units_short</th>\n",
       "      <th>seasonal_adjustment</th>\n",
       "      <th>seasonal_adjustment_short</th>\n",
       "      <th>last_updated</th>\n",
       "      <th>popularity</th>\n",
       "      <th>notes</th>\n",
       "    </tr>\n",
       "    <tr>\n",
       "      <th>series id</th>\n",
       "      <th></th>\n",
       "      <th></th>\n",
       "      <th></th>\n",
       "      <th></th>\n",
       "      <th></th>\n",
       "      <th></th>\n",
       "      <th></th>\n",
       "      <th></th>\n",
       "      <th></th>\n",
       "      <th></th>\n",
       "      <th></th>\n",
       "      <th></th>\n",
       "      <th></th>\n",
       "      <th></th>\n",
       "      <th></th>\n",
       "    </tr>\n",
       "  </thead>\n",
       "  <tbody>\n",
       "    <tr>\n",
       "      <th>BAMLH0A0HYM2</th>\n",
       "      <td>BAMLH0A0HYM2</td>\n",
       "      <td>2025-03-11</td>\n",
       "      <td>2025-03-11</td>\n",
       "      <td>ICE BofA US High Yield Index Option-Adjusted S...</td>\n",
       "      <td>1996-12-31</td>\n",
       "      <td>2025-03-07</td>\n",
       "      <td>Daily, Close</td>\n",
       "      <td>D</td>\n",
       "      <td>Percent</td>\n",
       "      <td>%</td>\n",
       "      <td>Not Seasonally Adjusted</td>\n",
       "      <td>NSA</td>\n",
       "      <td>2025-03-10 09:06:06-05:00</td>\n",
       "      <td>92</td>\n",
       "      <td>The ICE BofA Option-Adjusted Spreads (OASs) ar...</td>\n",
       "    </tr>\n",
       "    <tr>\n",
       "      <th>CSUSHPINSA</th>\n",
       "      <td>CSUSHPINSA</td>\n",
       "      <td>2025-03-11</td>\n",
       "      <td>2025-03-11</td>\n",
       "      <td>S&amp;P CoreLogic Case-Shiller U.S. National Home ...</td>\n",
       "      <td>1987-01-01</td>\n",
       "      <td>2024-12-01</td>\n",
       "      <td>Monthly</td>\n",
       "      <td>M</td>\n",
       "      <td>Index Jan 2000=100</td>\n",
       "      <td>Index Jan 2000=100</td>\n",
       "      <td>Not Seasonally Adjusted</td>\n",
       "      <td>NSA</td>\n",
       "      <td>2025-02-25 08:11:20-06:00</td>\n",
       "      <td>88</td>\n",
       "      <td>For more information regarding the index, plea...</td>\n",
       "    </tr>\n",
       "    <tr>\n",
       "      <th>SP500</th>\n",
       "      <td>SP500</td>\n",
       "      <td>2025-03-11</td>\n",
       "      <td>2025-03-11</td>\n",
       "      <td>S&amp;P 500</td>\n",
       "      <td>2015-03-11</td>\n",
       "      <td>2025-03-10</td>\n",
       "      <td>Daily, Close</td>\n",
       "      <td>D</td>\n",
       "      <td>Index</td>\n",
       "      <td>Index</td>\n",
       "      <td>Not Seasonally Adjusted</td>\n",
       "      <td>NSA</td>\n",
       "      <td>2025-03-10 19:11:20-05:00</td>\n",
       "      <td>83</td>\n",
       "      <td>The observations for the S&amp;P 500 represent the...</td>\n",
       "    </tr>\n",
       "    <tr>\n",
       "      <th>BAMLH0A0HYM2EY</th>\n",
       "      <td>BAMLH0A0HYM2EY</td>\n",
       "      <td>2025-03-11</td>\n",
       "      <td>2025-03-11</td>\n",
       "      <td>ICE BofA US High Yield Index Effective Yield</td>\n",
       "      <td>1996-12-31</td>\n",
       "      <td>2025-03-07</td>\n",
       "      <td>Daily, Close</td>\n",
       "      <td>D</td>\n",
       "      <td>Percent</td>\n",
       "      <td>%</td>\n",
       "      <td>Not Seasonally Adjusted</td>\n",
       "      <td>NSA</td>\n",
       "      <td>2025-03-10 09:06:09-05:00</td>\n",
       "      <td>82</td>\n",
       "      <td>This data represents the effective yield of th...</td>\n",
       "    </tr>\n",
       "    <tr>\n",
       "      <th>BAMLC0A0CM</th>\n",
       "      <td>BAMLC0A0CM</td>\n",
       "      <td>2025-03-11</td>\n",
       "      <td>2025-03-11</td>\n",
       "      <td>ICE BofA US Corporate Index Option-Adjusted Sp...</td>\n",
       "      <td>1996-12-31</td>\n",
       "      <td>2025-03-07</td>\n",
       "      <td>Daily, Close</td>\n",
       "      <td>D</td>\n",
       "      <td>Percent</td>\n",
       "      <td>%</td>\n",
       "      <td>Not Seasonally Adjusted</td>\n",
       "      <td>NSA</td>\n",
       "      <td>2025-03-10 09:14:01-05:00</td>\n",
       "      <td>78</td>\n",
       "      <td>The ICE BofA Option-Adjusted Spreads (OASs) ar...</td>\n",
       "    </tr>\n",
       "  </tbody>\n",
       "</table>\n",
       "</div>"
      ],
      "text/plain": [
       "                            id realtime_start realtime_end  \\\n",
       "series id                                                    \n",
       "BAMLH0A0HYM2      BAMLH0A0HYM2     2025-03-11   2025-03-11   \n",
       "CSUSHPINSA          CSUSHPINSA     2025-03-11   2025-03-11   \n",
       "SP500                    SP500     2025-03-11   2025-03-11   \n",
       "BAMLH0A0HYM2EY  BAMLH0A0HYM2EY     2025-03-11   2025-03-11   \n",
       "BAMLC0A0CM          BAMLC0A0CM     2025-03-11   2025-03-11   \n",
       "\n",
       "                                                            title  \\\n",
       "series id                                                           \n",
       "BAMLH0A0HYM2    ICE BofA US High Yield Index Option-Adjusted S...   \n",
       "CSUSHPINSA      S&P CoreLogic Case-Shiller U.S. National Home ...   \n",
       "SP500                                                     S&P 500   \n",
       "BAMLH0A0HYM2EY       ICE BofA US High Yield Index Effective Yield   \n",
       "BAMLC0A0CM      ICE BofA US Corporate Index Option-Adjusted Sp...   \n",
       "\n",
       "               observation_start observation_end     frequency  \\\n",
       "series id                                                        \n",
       "BAMLH0A0HYM2          1996-12-31      2025-03-07  Daily, Close   \n",
       "CSUSHPINSA            1987-01-01      2024-12-01       Monthly   \n",
       "SP500                 2015-03-11      2025-03-10  Daily, Close   \n",
       "BAMLH0A0HYM2EY        1996-12-31      2025-03-07  Daily, Close   \n",
       "BAMLC0A0CM            1996-12-31      2025-03-07  Daily, Close   \n",
       "\n",
       "               frequency_short               units         units_short  \\\n",
       "series id                                                                \n",
       "BAMLH0A0HYM2                 D             Percent                   %   \n",
       "CSUSHPINSA                   M  Index Jan 2000=100  Index Jan 2000=100   \n",
       "SP500                        D               Index               Index   \n",
       "BAMLH0A0HYM2EY               D             Percent                   %   \n",
       "BAMLC0A0CM                   D             Percent                   %   \n",
       "\n",
       "                    seasonal_adjustment seasonal_adjustment_short  \\\n",
       "series id                                                           \n",
       "BAMLH0A0HYM2    Not Seasonally Adjusted                       NSA   \n",
       "CSUSHPINSA      Not Seasonally Adjusted                       NSA   \n",
       "SP500           Not Seasonally Adjusted                       NSA   \n",
       "BAMLH0A0HYM2EY  Not Seasonally Adjusted                       NSA   \n",
       "BAMLC0A0CM      Not Seasonally Adjusted                       NSA   \n",
       "\n",
       "                             last_updated popularity  \\\n",
       "series id                                              \n",
       "BAMLH0A0HYM2    2025-03-10 09:06:06-05:00         92   \n",
       "CSUSHPINSA      2025-02-25 08:11:20-06:00         88   \n",
       "SP500           2025-03-10 19:11:20-05:00         83   \n",
       "BAMLH0A0HYM2EY  2025-03-10 09:06:09-05:00         82   \n",
       "BAMLC0A0CM      2025-03-10 09:14:01-05:00         78   \n",
       "\n",
       "                                                            notes  \n",
       "series id                                                          \n",
       "BAMLH0A0HYM2    The ICE BofA Option-Adjusted Spreads (OASs) ar...  \n",
       "CSUSHPINSA      For more information regarding the index, plea...  \n",
       "SP500           The observations for the S&P 500 represent the...  \n",
       "BAMLH0A0HYM2EY  This data represents the effective yield of th...  \n",
       "BAMLC0A0CM      The ICE BofA Option-Adjusted Spreads (OASs) ar...  "
      ]
     },
     "execution_count": 8,
     "metadata": {},
     "output_type": "execute_result"
    }
   ],
   "source": [
    "sp_search.head()"
   ]
  },
  {
   "cell_type": "markdown",
   "id": "be92cf25-e14b-4934-b275-d984a9b819a8",
   "metadata": {},
   "source": [
    "# 3. Pull Raw Data & Plot"
   ]
  },
  {
   "cell_type": "code",
   "execution_count": 10,
   "id": "0c4284df-0301-4d73-a226-562b83b52a51",
   "metadata": {},
   "outputs": [],
   "source": [
    "sp500 = fred.get_series(series_id='SP500')"
   ]
  },
  {
   "cell_type": "code",
   "execution_count": 14,
   "id": "ba2f716b-9bf4-4002-8755-5c5b311968ea",
   "metadata": {},
   "outputs": [
    {
     "data": {
      "text/plain": [
       "<Axes: title={'center': 'S&P 500'}>"
      ]
     },
     "execution_count": 14,
     "metadata": {},
     "output_type": "execute_result"
    },
    {
     "data": {
      "image/png": "[encoded data removed]",
      "text/plain": [
       "<Figure size 1000x500 with 1 Axes>"
      ]
     },
     "metadata": {},
     "output_type": "display_data"
    }
   ],
   "source": [
    "sp500.plot(figsize=(10,5), title='S&P 500', lw=1)"
   ]
  },
  {
   "cell_type": "markdown",
   "id": "057b25f5-2507-4046-ae56-7aac83a3d613",
   "metadata": {},
   "source": [
    "# 4. Pull and Join Multiple Data Series"
   ]
  },
  {
   "cell_type": "code",
   "execution_count": 48,
   "id": "98f1de13-0f2f-49bf-b4ee-ac11bb3ffe4a",
   "metadata": {},
   "outputs": [],
   "source": [
    "unemp_df = fred.search('unemployment rate state', filter=('frequency','Monthly'))\n",
    "unemp_df = unemp_df.query('seasonal_adjustment == \"Seasonally Adjusted\" and units == \"Percent\"')\n",
    "unemp_df = unemp_df.loc[unemp_df['title'].str.contains('Unemployment Rate')]"
   ]
  },
  {
   "cell_type": "code",
   "execution_count": null,
   "id": "918be63d-3dc9-4968-8315-2fb2bf21630d",
   "metadata": {},
   "outputs": [],
   "source": [
    "all_results = []\n",
    "\n",
    "for myid in unemp_df.index:\n",
    "    results = fred.get_series(myid)\n",
    "    results = results.to_frame(name = myid)\n",
    "    all_results.append(results)\n",
    "    "
   ]
  },
  {
   "cell_type": "code",
   "execution_count": null,
   "id": "86b3d559-d447-4364-8826-125279c6ffa2",
   "metadata": {},
   "outputs": [],
   "source": [
    "all_results[1]"
   ]
  },
  {
   "cell_type": "code",
   "execution_count": null,
   "id": "b910d4d4-1ae1-41ef-b09f-aff4ebbb1912",
   "metadata": {},
   "outputs": [],
   "source": []
  },
  {
   "cell_type": "code",
   "execution_count": null,
   "id": "37f26ff3-fe45-4257-95ec-fbc86dc54c44",
   "metadata": {},
   "outputs": [],
   "source": []
  },
  {
   "cell_type": "code",
   "execution_count": null,
   "id": "f1063332-df00-45b4-aac7-308cbb0c35f8",
   "metadata": {},
   "outputs": [],
   "source": []
  },
  {
   "cell_type": "code",
   "execution_count": null,
   "id": "ffd95e1c-5eb7-4a46-8cb2-ad3a34865480",
   "metadata": {},
   "outputs": [],
   "source": []
  },
  {
   "cell_type": "code",
   "execution_count": null,
   "id": "27027f4b-5986-4424-bf08-168871c767b1",
   "metadata": {},
   "outputs": [],
   "source": []
  },
  {
   "cell_type": "code",
   "execution_count": null,
   "id": "33d87617-0b16-413e-9aec-d2eeb6066960",
   "metadata": {},
   "outputs": [],
   "source": []
  },
  {
   "cell_type": "code",
   "execution_count": null,
   "id": "f2b58e44-277a-4c0e-961e-c7b34767e1a2",
   "metadata": {},
   "outputs": [],
   "source": []
  },
  {
   "cell_type": "code",
   "execution_count": null,
   "id": "5d31dacd-83a9-4822-853a-c99756fded64",
   "metadata": {},
   "outputs": [],
   "source": []
  },
  {
   "cell_type": "code",
   "execution_count": null,
   "id": "3cf21be7-d693-4dfc-8508-afbde80c70d1",
   "metadata": {},
   "outputs": [],
   "source": []
  }
 ],
 "metadata": {
  "kernelspec": {
   "display_name": "Python 3 (ipykernel)",
   "language": "python",
   "name": "python3"
  },
  "language_info": {
   "codemirror_mode": {
    "name": "ipython",
    "version": 3
   },
   "file_extension": ".py",
   "mimetype": "text/x-python",
   "name": "python",
   "nbconvert_exporter": "python",
   "pygments_lexer": "ipython3",
   "version": "3.11.7"
  }
 },
 "nbformat": 4,
 "nbformat_minor": 5
}
