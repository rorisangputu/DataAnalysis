{
 "cells": [
  {
   "cell_type": "markdown",
   "id": "9d4248b5-a983-4e4f-b54a-9825bfc0ad69",
   "metadata": {},
   "source": [
    "# BMI Calculator\n"
   ]
  },
  {
   "cell_type": "code",
   "execution_count": 75,
   "id": "4b2eca6d-2a29-4b16-97c4-717ab5f54bb1",
   "metadata": {},
   "outputs": [
    {
     "name": "stdin",
     "output_type": "stream",
     "text": [
      "Weight (lbs):  250\n",
      "Height (in):  60\n"
     ]
    },
    {
     "name": "stdout",
     "output_type": "stream",
     "text": [
      "Your BMI is: 48.81944444444444\n",
      "You are mobidly obese\n"
     ]
    }
   ],
   "source": [
    "weight = int(input(\"Weight (lbs): \"))\n",
    "height = int(input(\"Height (in): \"))\n",
    "\n",
    "BMI = (weight * 703) / (height * height )\n",
    "\n",
    "print(f\"Your BMI is: {BMI}\")\n",
    "\n",
    "if BMI > 0:\n",
    "    if BMI < 18.5:\n",
    "        print (\"You are underweight\") \n",
    "    elif 18.5 < BMI < 24.9:\n",
    "        print (\"Normal weight\")\n",
    "    elif 25 <= BMI < 39.9:\n",
    "        print (\"You are overweight\")\n",
    "    elif BMI > 40:\n",
    "        print(\"You are mobidly obese\")\n",
    "else: print(\"Invalid input\")"
   ]
  },
  {
   "cell_type": "code",
   "execution_count": null,
   "id": "4cfc0560-4f02-4916-a6e3-a173c2384fb2",
   "metadata": {},
   "outputs": [],
   "source": []
  },
  {
   "cell_type": "code",
   "execution_count": 58,
   "id": "2511533e-22bd-4482-b284-00e9c70738c4",
   "metadata": {},
   "outputs": [],
   "source": [
    "#BMI = (weight in pounds x 703) / (height in inches x height in inches)"
   ]
  },
  {
   "cell_type": "code",
   "execution_count": null,
   "id": "813a81b3-868b-401a-88b6-1acd238aad16",
   "metadata": {},
   "outputs": [],
   "source": []
  },
  {
   "cell_type": "code",
   "execution_count": null,
   "id": "e98e656c-179f-4acd-a442-38af67fb9246",
   "metadata": {},
   "outputs": [],
   "source": []
  },
  {
   "cell_type": "code",
   "execution_count": null,
   "id": "2b4b7f7f-7698-4c2e-985b-0fe3f85a9cb1",
   "metadata": {},
   "outputs": [],
   "source": []
  },
  {
   "cell_type": "code",
   "execution_count": null,
   "id": "3e1cca39-b54a-4649-8be5-2f9c8f673477",
   "metadata": {},
   "outputs": [],
   "source": []
  },
  {
   "cell_type": "code",
   "execution_count": null,
   "id": "3f5156a4-cebf-4eae-b47b-e7446255d1cb",
   "metadata": {},
   "outputs": [],
   "source": []
  },
  {
   "cell_type": "code",
   "execution_count": null,
   "id": "cd89e7be-0c8d-432b-86b6-9c913d3e1087",
   "metadata": {},
   "outputs": [],
   "source": []
  },
  {
   "cell_type": "code",
   "execution_count": null,
   "id": "47fa02e9-bf55-4331-b497-18c9af3a0a1a",
   "metadata": {},
   "outputs": [],
   "source": []
  },
  {
   "cell_type": "code",
   "execution_count": null,
   "id": "878936af-a0b4-4f0e-be41-514796a7ee4a",
   "metadata": {},
   "outputs": [],
   "source": []
  },
  {
   "cell_type": "code",
   "execution_count": null,
   "id": "64ffd9f5-38c7-420a-bd4c-ebef5b73fb05",
   "metadata": {},
   "outputs": [],
   "source": []
  },
  {
   "cell_type": "code",
   "execution_count": null,
   "id": "f6608326-0c9c-4e38-b5d5-a9baa06bddf1",
   "metadata": {},
   "outputs": [],
   "source": []
  },
  {
   "cell_type": "code",
   "execution_count": null,
   "id": "14083fe7-9f09-4a49-9f2b-a5f8bb562ba6",
   "metadata": {},
   "outputs": [],
   "source": []
  }
 ],
 "metadata": {
  "kernelspec": {
   "display_name": "Python [conda env:base] *",
   "language": "python",
   "name": "conda-base-py"
  },
  "language_info": {
   "codemirror_mode": {
    "name": "ipython",
    "version": 3
   },
   "file_extension": ".py",
   "mimetype": "text/x-python",
   "name": "python",
   "nbconvert_exporter": "python",
   "pygments_lexer": "ipython3",
   "version": "3.12.7"
  }
 },
 "nbformat": 4,
 "nbformat_minor": 5
}
